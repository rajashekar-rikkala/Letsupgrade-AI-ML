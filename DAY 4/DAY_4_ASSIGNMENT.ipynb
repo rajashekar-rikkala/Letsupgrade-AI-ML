{
  "nbformat": 4,
  "nbformat_minor": 0,
  "metadata": {
    "colab": {
      "name": "DAY 4 ASSIGNMENT.ipynb",
      "provenance": []
    },
    "kernelspec": {
      "name": "python3",
      "display_name": "Python 3"
    }
  },
  "cells": [
    {
      "cell_type": "markdown",
      "metadata": {
        "id": "_ya5CIqkpVCU",
        "colab_type": "text"
      },
      "source": [
        "**1) Research on whether addition, subtraction, multiplication, division, floor division and modulo operations be performed on complex numbers. Based on your study, implement a python program to demonstrate these operations.**"
      ]
    },
    {
      "cell_type": "code",
      "metadata": {
        "id": "6Of7_kUCk-b3",
        "colab_type": "code",
        "colab": {
          "base_uri": "https://localhost:8080/",
          "height": 119
        },
        "outputId": "b47f6e7b-89c0-40a9-c4e6-9ad9de556e91"
      },
      "source": [
        "num1 = 5 + 6j\n",
        "num2 = 2 + 3j\n",
        "\n",
        "print(f\"Addition of {num1} and {num2} complex numbers : {num1+num2}\")\n",
        "print(f\"Subtraction of {num1} and {num2} complex numbers : {num1-num2}\")\n",
        "print(f\"Multiplication of {num1} and {num2} complex numbers : {num1*num2}\")\n",
        "print(f\"Division of {num1} and {num2} complex numbers : {num1/num2}\")\n",
        "# print(f\"Floor Division of {num1} and {num2} complex numbers : {num1//num2}\")\n",
        "# print(f\"Modulo of {num1} and {num2} complex numbers : {num1%num2}\")\n",
        "print('\\nFloor division and modulo operations cannot be performed on complex number')"
      ],
      "execution_count": 1,
      "outputs": [
        {
          "output_type": "stream",
          "text": [
            "Addition of (5+6j) and (2+3j) complex numbers : (7+9j)\n",
            "Subtraction of (5+6j) and (2+3j) complex numbers : (3+3j)\n",
            "Multiplication of (5+6j) and (2+3j) complex numbers : (-8+27j)\n",
            "Division of (5+6j) and (2+3j) complex numbers : (2.1538461538461537-0.23076923076923078j)\n",
            "\n",
            "Floor division and modulo operations cannot be performed on complex number\n"
          ],
          "name": "stdout"
        }
      ]
    },
    {
      "cell_type": "markdown",
      "metadata": {
        "id": "MHpbPSjOrfu7",
        "colab_type": "text"
      },
      "source": [
        "**2) Research on range() function and its parameters. Create a markdown cell and write in you own words (no copy-paste from google please) what you understand about it. Implement a small program of your choice on the same.**"
      ]
    },
    {
      "cell_type": "markdown",
      "metadata": {
        "id": "xtocPptIr7IJ",
        "colab_type": "text"
      },
      "source": [
        "Syntax:\n",
        "\n",
        "range(start, stop[,step]).\n",
        "\n",
        "\n",
        "\n",
        "    start: Starting number / lower limit.\n",
        "    stop: Ending value / upper  limit.\n",
        "    step: It is the difference between each number in the result \n",
        "            sequence."
      ]
    },
    {
      "cell_type": "code",
      "metadata": {
        "id": "eARqqmYWsn72",
        "colab_type": "code",
        "colab": {
          "base_uri": "https://localhost:8080/",
          "height": 884
        },
        "outputId": "85dc71cd-5969-4467-a635-bff809c7dbe9"
      },
      "source": [
        "print(\"Generating a range of numbers from 0 to 100 divisible by 2 using range() function.\")\n",
        "for a in range(0, 100, 2):\n",
        "    print(a)"
      ],
      "execution_count": 3,
      "outputs": [
        {
          "output_type": "stream",
          "text": [
            "Generating a range of numbers from 0 to 100 divisible by 2 using range() function.\n",
            "0\n",
            "2\n",
            "4\n",
            "6\n",
            "8\n",
            "10\n",
            "12\n",
            "14\n",
            "16\n",
            "18\n",
            "20\n",
            "22\n",
            "24\n",
            "26\n",
            "28\n",
            "30\n",
            "32\n",
            "34\n",
            "36\n",
            "38\n",
            "40\n",
            "42\n",
            "44\n",
            "46\n",
            "48\n",
            "50\n",
            "52\n",
            "54\n",
            "56\n",
            "58\n",
            "60\n",
            "62\n",
            "64\n",
            "66\n",
            "68\n",
            "70\n",
            "72\n",
            "74\n",
            "76\n",
            "78\n",
            "80\n",
            "82\n",
            "84\n",
            "86\n",
            "88\n",
            "90\n",
            "92\n",
            "94\n",
            "96\n",
            "98\n"
          ],
          "name": "stdout"
        }
      ]
    },
    {
      "cell_type": "markdown",
      "metadata": {
        "id": "70H2Vn0wtfgU",
        "colab_type": "text"
      },
      "source": [
        "**3) Consider two numbers. Perform their subtraction and if result of subtraction is greater than 25, print their multiplication result else print their division result.**"
      ]
    },
    {
      "cell_type": "code",
      "metadata": {
        "id": "wLNvKZeVuf9Q",
        "colab_type": "code",
        "colab": {
          "base_uri": "https://localhost:8080/",
          "height": 34
        },
        "outputId": "21e021de-3e25-4946-d92b-bccaaa9fd6f7"
      },
      "source": [
        "num1 = 232\n",
        "num2 = 126\n",
        "\n",
        "if num1 - num2 > 25:\n",
        "    print(f\"Multiplication of {num1} and {num2} is {num1 * num2}\")\n",
        "else:\n",
        "    print(f\"Division of {num1} and {num2} is {num1 / num2}\")"
      ],
      "execution_count": 5,
      "outputs": [
        {
          "output_type": "stream",
          "text": [
            "Multiplication of 232 and 126 is 29232\n"
          ],
          "name": "stdout"
        }
      ]
    },
    {
      "cell_type": "markdown",
      "metadata": {
        "id": "KRI1SV4qu7nB",
        "colab_type": "text"
      },
      "source": [
        "**4) Consider a list of 10 elements of integer values. if the number in the list is divisible by 2, print the result as \"square of that number minus 2\".**"
      ]
    },
    {
      "cell_type": "code",
      "metadata": {
        "id": "xrpS7NYowiFv",
        "colab_type": "code",
        "colab": {
          "base_uri": "https://localhost:8080/",
          "height": 102
        },
        "outputId": "d7ebf861-5b5e-4fb2-d244-4fc92a90148f"
      },
      "source": [
        "lst = [1, 2, 3, 4, 5, 6, 7, 8, 9, 10]\n",
        "for a in lst:\n",
        "    if a % 2 == 0:\n",
        "        print(f\"Square of {a} minus 2 is: {a**2-2}\")"
      ],
      "execution_count": 9,
      "outputs": [
        {
          "output_type": "stream",
          "text": [
            "Square of 2 minus 2 is: 2\n",
            "Square of 4 minus 2 is: 14\n",
            "Square of 6 minus 2 is: 34\n",
            "Square of 8 minus 2 is: 62\n",
            "Square of 10 minus 2 is: 98\n"
          ],
          "name": "stdout"
        }
      ]
    },
    {
      "cell_type": "markdown",
      "metadata": {
        "id": "JILHyNBDw7wU",
        "colab_type": "text"
      },
      "source": [
        "**5) Consider a list of 10 elements. Print all the elements in the list which are greater than 7 when that number is divided by 2.**"
      ]
    },
    {
      "cell_type": "code",
      "metadata": {
        "id": "vgTRfeQ5wuSs",
        "colab_type": "code",
        "colab": {
          "base_uri": "https://localhost:8080/",
          "height": 153
        },
        "outputId": "ad75781b-0f11-4b88-816f-12e44cc2282f"
      },
      "source": [
        "lst = [83, 21, 6, 81, 31, 21, 41, 5, 14, 20]\n",
        "print(\"Elements in the list which are greater than 7 when that number is divided by 2: \")\n",
        "for a in lst:\n",
        "    if a/2 > 7:\n",
        "        print(a)"
      ],
      "execution_count": 11,
      "outputs": [
        {
          "output_type": "stream",
          "text": [
            "Elements in the list which are greater than 7 when that number is divided by 2: \n",
            "83\n",
            "21\n",
            "81\n",
            "31\n",
            "21\n",
            "41\n",
            "20\n"
          ],
          "name": "stdout"
        }
      ]
    }
  ]
}