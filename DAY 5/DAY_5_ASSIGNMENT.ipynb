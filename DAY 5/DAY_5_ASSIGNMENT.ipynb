{
  "nbformat": 4,
  "nbformat_minor": 0,
  "metadata": {
    "colab": {
      "name": "DAY 5 ASSIGNMENT.ipynb",
      "provenance": []
    },
    "kernelspec": {
      "name": "python3",
      "display_name": "Python 3"
    }
  },
  "cells": [
    {
      "cell_type": "markdown",
      "metadata": {
        "id": "4Qugh5yx0Oos",
        "colab_type": "text"
      },
      "source": [
        "**1)Write a Python program to find the first 20 non-even prime natural numbers.**"
      ]
    },
    {
      "cell_type": "code",
      "metadata": {
        "id": "fFDMnLln0JAE",
        "colab_type": "code",
        "colab": {
          "base_uri": "https://localhost:8080/",
          "height": 51
        },
        "outputId": "b93d6cd4-6f2e-49b5-aaf8-7a38a2d9a683"
      },
      "source": [
        "print(f'First 20 non-even prime natural numbers are: ')\n",
        "num = 2\n",
        "odd_prime = []\n",
        "while len(odd_prime) != 20:\n",
        "    if num % 2 != 0:\n",
        "        for i in range(2, num//2 + 2):\n",
        "            if num % i == 0:\n",
        "                break\n",
        "            elif i == num//2 + 1:\n",
        "                odd_prime.append(num)\n",
        "    num += 1\n",
        "print(*odd_prime)"
      ],
      "execution_count": 1,
      "outputs": [
        {
          "output_type": "stream",
          "text": [
            "First 20 non-even prime natural numbers are: \n",
            "3 5 7 11 13 17 19 23 29 31 37 41 43 47 53 59 61 67 71 73\n"
          ],
          "name": "stdout"
        }
      ]
    },
    {
      "cell_type": "markdown",
      "metadata": {
        "id": "PfkyqlfHqA_g",
        "colab_type": "text"
      },
      "source": [
        "**2)Write a Python program to implement 15 functions of string.**"
      ]
    },
    {
      "cell_type": "code",
      "metadata": {
        "id": "n630Ljv5ppUj",
        "colab_type": "code",
        "colab": {
          "base_uri": "https://localhost:8080/",
          "height": 272
        },
        "outputId": "6b9f3a6e-c8a1-4183-c7b7-13a3d9027ff0"
      },
      "source": [
        "txt=\"rajshekar\"\n",
        "print(f'len(): {len(txt)}')\n",
        "print(f'title(): {txt.title()}')\n",
        "print(f'lower(): {txt.lower()}')\n",
        "print(f'upper(): {txt.upper()}')\n",
        "print(f'swapcase(): {txt.swapcase()}')\n",
        "print(f'casefold(): {txt.casefold()}')\n",
        "print(f'replace(): {txt.replace(\"s\", \"z\")}')\n",
        "print(f'join(): {\"_\".join(txt.split())}')\n",
        "print(f'split(): {txt.split()}')\n",
        "print(f'find(): {txt.find(\"Up\")}')\n",
        "print(f'count(): {txt.count(\"e\")}')\n",
        "print(f'partition(): {txt.partition(\" \")}')\n",
        "print(f'islower(): {txt.islower()}')\n",
        "print(f'center(): {txt.center(20, \"_\")}')\n",
        "print(f'isalpha(): {txt.isalpha()}')"
      ],
      "execution_count": 2,
      "outputs": [
        {
          "output_type": "stream",
          "text": [
            "len(): 9\n",
            "title(): Rajshekar\n",
            "lower(): rajshekar\n",
            "upper(): RAJSHEKAR\n",
            "swapcase(): RAJSHEKAR\n",
            "casefold(): rajshekar\n",
            "replace(): rajzhekar\n",
            "join(): rajshekar\n",
            "split(): ['rajshekar']\n",
            "find(): -1\n",
            "count(): 1\n",
            "partition(): ('rajshekar', '', '')\n",
            "islower(): True\n",
            "center(): _____rajshekar______\n",
            "isalpha(): True\n"
          ],
          "name": "stdout"
        }
      ]
    },
    {
      "cell_type": "markdown",
      "metadata": {
        "id": "fWrir6bJqy8Q",
        "colab_type": "text"
      },
      "source": [
        "**3)Write a Python program to check if the given string is a Palindrome or Anagram or None of them.\n",
        "Display the message accordingly to the user.**\n"
      ]
    },
    {
      "cell_type": "code",
      "metadata": {
        "id": "GoasJY7rq-ex",
        "colab_type": "code",
        "colab": {
          "base_uri": "https://localhost:8080/",
          "height": 68
        },
        "outputId": "f8808335-ecb9-49d1-8e37-fcc43c213288"
      },
      "source": [
        "def check(txt, txt2):\n",
        "    if txt == txt[::-1]:\n",
        "        print(f\"\\'{txt}\\' is Palindrome\")\n",
        "    elif sorted(txt) == sorted(txt2.lower().replace(' ', '')):\n",
        "        print(f\"\\'{txt}\\' and \\'{txt2}\\' are Anagram\")\n",
        "    else:\n",
        "        print(f\"\\'{txt}\\' and \\'{txt2}\\' are neither Anagram nor \\'{txt}\\' is Palindrome\")\n",
        "\n",
        "\n",
        "check('madam', 'mama')\n",
        "check('palindrome', 'ireland mop')\n",
        "check('soap', 'pause')"
      ],
      "execution_count": 3,
      "outputs": [
        {
          "output_type": "stream",
          "text": [
            "'madam' is Palindrome\n",
            "'palindrome' and 'ireland mop' are Anagram\n",
            "'soap' and 'pause' are neither Anagram nor 'soap' is Palindrome\n"
          ],
          "name": "stdout"
        }
      ]
    },
    {
      "cell_type": "markdown",
      "metadata": {
        "id": "vQWgVdfotum6",
        "colab_type": "text"
      },
      "source": [
        "**4)Write a Python's user defined function that removes all the additional characters from the string\n",
        "and converts it finally to lower case using built-in lower(). eg: If the string is \"Dr. Darshan Ingle\n",
        "@AI-ML Trainer\", then the output be \"drdarshaningleaimltrainer\"**"
      ]
    },
    {
      "cell_type": "code",
      "metadata": {
        "id": "lzM6Q6T6uGNi",
        "colab_type": "code",
        "colab": {
          "base_uri": "https://localhost:8080/",
          "height": 34
        },
        "outputId": "78e6285e-a5cb-4950-f260-b4b5cee4d375"
      },
      "source": [
        "string = 'Dr. Darshan Ingle @AI-ML Trainer'\n",
        "\n",
        "\n",
        "def remover(txt):\n",
        "    for i in txt.lower():\n",
        "        if i.isalpha():\n",
        "            print(i, end='')\n",
        "\n",
        "\n",
        "remover(string)"
      ],
      "execution_count": 4,
      "outputs": [
        {
          "output_type": "stream",
          "text": [
            "drdarshaningleaimltrainer"
          ],
          "name": "stdout"
        }
      ]
    }
  ]
}