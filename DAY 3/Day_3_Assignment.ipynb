{
  "nbformat": 4,
  "nbformat_minor": 0,
  "metadata": {
    "colab": {
      "name": "Day 3 Assignment.ipynb",
      "provenance": []
    },
    "kernelspec": {
      "name": "python3",
      "display_name": "Python 3"
    }
  },
  "cells": [
    {
      "cell_type": "markdown",
      "metadata": {
        "id": "tO3qvUxYZrCI",
        "colab_type": "text"
      },
      "source": [
        "**1)write a program to subtract two complex numbers in python**"
      ]
    },
    {
      "cell_type": "code",
      "metadata": {
        "id": "h6T47odKaIkN",
        "colab_type": "code",
        "colab": {
          "base_uri": "https://localhost:8080/",
          "height": 34
        },
        "outputId": "aae77eb6-dbfa-40e9-a023-d51215e2ff36"
      },
      "source": [
        "a = 5+6j\n",
        "b = 2+3j\n",
        "print(f'Subtraction of complex numbers {a} and {b} is {a-b}')"
      ],
      "execution_count": 1,
      "outputs": [
        {
          "output_type": "stream",
          "text": [
            "Subtraction of complex numbers (5+6j) and (2+3j) is (3+3j)\n"
          ],
          "name": "stdout"
        }
      ]
    },
    {
      "cell_type": "markdown",
      "metadata": {
        "id": "tlOEdjMNbQdi",
        "colab_type": "text"
      },
      "source": [
        "**2) Write a program to find the fourth root of a number**"
      ]
    },
    {
      "cell_type": "code",
      "metadata": {
        "id": "NNo7HhQycAy5",
        "colab_type": "code",
        "colab": {
          "base_uri": "https://localhost:8080/",
          "height": 34
        },
        "outputId": "a985e77e-712a-4bba-d606-6676f1cb4485"
      },
      "source": [
        "a = 64\n",
        "print(f'Fourth root of {a} is {int(a**(1/4))}')"
      ],
      "execution_count": 2,
      "outputs": [
        {
          "output_type": "stream",
          "text": [
            "Fourth root of 64 is 2\n"
          ],
          "name": "stdout"
        }
      ]
    },
    {
      "cell_type": "markdown",
      "metadata": {
        "id": "aCarOZchcJL7",
        "colab_type": "text"
      },
      "source": [
        "**3) Write a program to swap two numbes in Python with the help of temporary variable**"
      ]
    },
    {
      "cell_type": "code",
      "metadata": {
        "id": "7fLy7Mn7cTkF",
        "colab_type": "code",
        "colab": {
          "base_uri": "https://localhost:8080/",
          "height": 119
        },
        "outputId": "993924ef-4680-482b-c6f0-2db477aa242a"
      },
      "source": [
        "x = 20\n",
        "y = 30\n",
        "print(f'Before swap\\n x = {x}\\n y = {y}')\n",
        "temp = x\n",
        "x = y\n",
        "y = temp\n",
        "print(f'After swap\\n x = {x}\\n y = {y}')"
      ],
      "execution_count": 3,
      "outputs": [
        {
          "output_type": "stream",
          "text": [
            "Before swap\n",
            " x = 20\n",
            " y = 30\n",
            "After swap\n",
            " x = 30\n",
            " y = 20\n"
          ],
          "name": "stdout"
        }
      ]
    },
    {
      "cell_type": "markdown",
      "metadata": {
        "id": "zz-Ubegxcep6",
        "colab_type": "text"
      },
      "source": [
        "**4) Write a program to swap two numbers in Python without using a temporary variable**"
      ]
    },
    {
      "cell_type": "code",
      "metadata": {
        "id": "fs5jSNIIcm71",
        "colab_type": "code",
        "colab": {
          "base_uri": "https://localhost:8080/",
          "height": 119
        },
        "outputId": "b31f45bc-cbcf-4df6-955a-25ec4eb26e8b"
      },
      "source": [
        "x = 20\n",
        "y = 30\n",
        "print(f'Before swap\\n x = {x}\\n y = {y}')\n",
        "y,x=x,y\n",
        "print(f'After swap\\n x = {x}\\n y = {y}')"
      ],
      "execution_count": 4,
      "outputs": [
        {
          "output_type": "stream",
          "text": [
            "Before swap\n",
            " x = 20\n",
            " y = 30\n",
            "After swap\n",
            " x = 30\n",
            " y = 20\n"
          ],
          "name": "stdout"
        }
      ]
    },
    {
      "cell_type": "markdown",
      "metadata": {
        "id": "hRU_rrtKct8f",
        "colab_type": "text"
      },
      "source": [
        "**5) Write a program to convert fahrenheit to kelvin and celsius both**"
      ]
    },
    {
      "cell_type": "code",
      "metadata": {
        "id": "xafHchjqc2lW",
        "colab_type": "code",
        "colab": {
          "base_uri": "https://localhost:8080/",
          "height": 34
        },
        "outputId": "9d27ff7e-1856-4ad6-c6fb-95d544c34edd"
      },
      "source": [
        "f = 89.5\n",
        "c = (f-32)/1.8\n",
        "k = c + 273.15\n",
        "\n",
        "print(f'{f}F is equal to {c:.2f}C and {k:.2f}K')"
      ],
      "execution_count": 5,
      "outputs": [
        {
          "output_type": "stream",
          "text": [
            "89.5F is equal to 31.94C and 305.09K\n"
          ],
          "name": "stdout"
        }
      ]
    },
    {
      "cell_type": "markdown",
      "metadata": {
        "id": "w2Z1vBTwc-dA",
        "colab_type": "text"
      },
      "source": [
        "**6) Write a program to demonstrate all the available data types in Python**"
      ]
    },
    {
      "cell_type": "code",
      "metadata": {
        "id": "W_DMl29cdJ0q",
        "colab_type": "code",
        "colab": {
          "base_uri": "https://localhost:8080/",
          "height": 255
        },
        "outputId": "151dc256-b749-4164-9345-63e579ad9c9b"
      },
      "source": [
        "a = 20\n",
        "print(type(a))\n",
        "\n",
        "b = 20.5\n",
        "print(type(b))\n",
        "\n",
        "c = 'ram'\n",
        "print(type(c))\n",
        "\n",
        "d = 3 + 5j\n",
        "print(type(d))\n",
        "\n",
        "e = [1,2,3,4,5,'a','b']\n",
        "print(type(e))\n",
        "\n",
        "f = (1,2,3,4,5,'a','b')\n",
        "print(type(f))\n",
        "\n",
        "g = {'test1': 30, 'test2': 40}\n",
        "print(type(g))\n",
        "\n",
        "h = {'test1', 'test2'}\n",
        "print(type(h))\n",
        "\n",
        "i = True\n",
        "print(type(i))\n",
        "\n",
        "j = range(20)\n",
        "print(type(j))\n",
        "\n",
        "k = frozenset({\"a\", \"b\", \"c\"})\n",
        "print(type(k))\n",
        "\n",
        "l = b'ram'\n",
        "print(type(l))\n",
        "\n",
        "m = bytearray(20)\n",
        "print(type(m))\n",
        "n = memoryview(bytes(20))\n",
        "print(type(n))"
      ],
      "execution_count": 6,
      "outputs": [
        {
          "output_type": "stream",
          "text": [
            "<class 'int'>\n",
            "<class 'float'>\n",
            "<class 'str'>\n",
            "<class 'complex'>\n",
            "<class 'list'>\n",
            "<class 'tuple'>\n",
            "<class 'dict'>\n",
            "<class 'set'>\n",
            "<class 'bool'>\n",
            "<class 'range'>\n",
            "<class 'frozenset'>\n",
            "<class 'bytes'>\n",
            "<class 'bytearray'>\n",
            "<class 'memoryview'>\n"
          ],
          "name": "stdout"
        }
      ]
    },
    {
      "cell_type": "markdown",
      "metadata": {
        "id": "8iwL1YCbezS5",
        "colab_type": "text"
      },
      "source": [
        "**7) Create a Markdown cell in Jupyter and list the steps discussed in the session by Dr. Darshan Ingle sir to create Github profile and upload Githubs Assignment link¶**"
      ]
    },
    {
      "cell_type": "markdown",
      "metadata": {
        "id": "_PY7Lyfee8b-",
        "colab_type": "text"
      },
      "source": [
        "**The steps to create a GitHub profile are as follows:**"
      ]
    },
    {
      "cell_type": "markdown",
      "metadata": {
        "id": "Sfkvc2Z-fac2",
        "colab_type": "text"
      },
      "source": [
        "1)Go to www.github.com"
      ]
    },
    {
      "cell_type": "markdown",
      "metadata": {
        "id": "g1-fUhqufj1z",
        "colab_type": "text"
      },
      "source": [
        "2)SignUp/SignIn to your account."
      ]
    },
    {
      "cell_type": "markdown",
      "metadata": {
        "id": "-3r3UqTQfs4R",
        "colab_type": "text"
      },
      "source": [
        "3)Press on the button which says **Create New Repository**"
      ]
    },
    {
      "cell_type": "markdown",
      "metadata": {
        "id": "Qikhi0fcf_t0",
        "colab_type": "text"
      },
      "source": [
        "4)Name it as LetsUpgrade AI-ML and press **Create**."
      ]
    },
    {
      "cell_type": "markdown",
      "metadata": {
        "id": "opk-KQ6RgY3L",
        "colab_type": "text"
      },
      "source": [
        "5)After the assignment is done in Jupyter Notebook we have to create a folder with the name of the current day of the session e.g. **Day 1.**"
      ]
    },
    {
      "cell_type": "markdown",
      "metadata": {
        "id": "6u4rQ8jVgm4j",
        "colab_type": "text"
      },
      "source": [
        "6)After that in GitHub we have to select the uploading an existing file link on the setup page which comes up after creating the repository."
      ]
    },
    {
      "cell_type": "markdown",
      "metadata": {
        "id": "g0b1VyC1gs79",
        "colab_type": "text"
      },
      "source": [
        "7)Then we have to drag and drop the folder and just commit the changes without editing anything else."
      ]
    },
    {
      "cell_type": "markdown",
      "metadata": {
        "id": "XsBAwZldg9Kk",
        "colab_type": "text"
      },
      "source": [
        "8)Done, we have successfully uploaded the Assignment on GitHub.\n"
      ]
    },
    {
      "cell_type": "markdown",
      "metadata": {
        "id": "uzstWmj5hQ-b",
        "colab_type": "text"
      },
      "source": [
        "**How to upload the GitHubs Assignment Link:**\n",
        "\n"
      ]
    },
    {
      "cell_type": "markdown",
      "metadata": {
        "id": "LzaKnyl9hXyI",
        "colab_type": "text"
      },
      "source": [
        "1)Navigate to the repository and open the folder named as the current day of the session e.g. **Day 1.**"
      ]
    },
    {
      "cell_type": "markdown",
      "metadata": {
        "id": "gmoRjPM2hoUv",
        "colab_type": "text"
      },
      "source": [
        "2)Just copy the link from the Address Bar and try to see if it is visible to the public by opening the link in incognito mode."
      ]
    },
    {
      "cell_type": "markdown",
      "metadata": {
        "id": "Oenofzb-h2NQ",
        "colab_type": "text"
      },
      "source": [
        "3)After testing,open the Assignment submission form,fill the required data and paste the GitHub link which we just copied and press Submit."
      ]
    },
    {
      "cell_type": "markdown",
      "metadata": {
        "id": "8-Msj_XZiB9o",
        "colab_type": "text"
      },
      "source": [
        "**Done**,we have successfully submitted the Assignment."
      ]
    }
  ]
}